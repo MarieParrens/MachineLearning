{
 "cells": [
  {
   "cell_type": "markdown",
   "id": "44cd7fed-fcb6-4ca0-8335-08830c87afa0",
   "metadata": {},
   "source": [
    "# Machine learning\n",
    "## Test de différents algorithmes de machine learning pour de la classification des espèces d'iris"
   ]
  },
  {
   "cell_type": "markdown",
   "id": "935abcca-1be7-411e-8f9a-c69bcc5070a6",
   "metadata": {},
   "source": [
    "Dans ce travail, nous aurons besoin d'une librairie R contenant des centaines d'algorithmes de machine learnig (ces algorithmes sont déjà codés, nous allons \"juste\" les utilser !). Cette librairie s'appelle \"caret\". Les deux premières librairies contiennent des outils de visualisation des données."
   ]
  },
  {
   "cell_type": "code",
   "execution_count": null,
   "id": "3ad04deb-871a-442a-ae51-1bedf5776ebb",
   "metadata": {},
   "outputs": [],
   "source": [
    "library(\"ggplot2\") # graphiques classiques"
   ]
  },
  {
   "cell_type": "code",
   "execution_count": null,
   "id": "a408ceab-2e5f-488e-b178-c61215b7a26b",
   "metadata": {},
   "outputs": [],
   "source": [
    "library(\"psych\") # pour la visualisation des données "
   ]
  },
  {
   "cell_type": "code",
   "execution_count": null,
   "id": "e1931a74-a32f-40e7-b533-c400fc33f949",
   "metadata": {},
   "outputs": [],
   "source": [
    "library(\"caret\") # machine learning"
   ]
  },
  {
   "cell_type": "markdown",
   "id": "1c789bb6-eecb-4629-a6a3-8fbbb8b4f865",
   "metadata": {},
   "source": [
    "Dans ce NoteBook, on va travailler avec des données de fleurs - des iris - déjà implémentées sous R. Ce jeu de données est très classique pour la découverte du machine learning et contient 150 observations de d'iris. Pour charger ce jeu de données, excécutez les commandes suivantes : "
   ]
  },
  {
   "cell_type": "code",
   "execution_count": null,
   "id": "ffbd5db5-df7d-4bb5-87c5-612dce617618",
   "metadata": {},
   "outputs": [],
   "source": [
    "data(iris)"
   ]
  },
  {
   "cell_type": "markdown",
   "id": "58563e6e-8d38-48e8-b2df-893b7e038b5d",
   "metadata": {},
   "source": [
    "Le jeu de données comprend 50 échantillons de chacune des trois espèces d'iris (Iris setosa, Iris virginica et Iris versicolor).  Quatre caractéristiques ont été mesurées à partir de chaque échantillon : la longueur et la largeur des sépales et des pétales, en centimètres. "
   ]
  },
  {
   "cell_type": "markdown",
   "id": "8086ba7c-12ef-4a53-ad0e-47223e562733",
   "metadata": {},
   "source": [
    "<img src=\"iris2.jpg\" style=\"width:700px;height:300px\"/>"
   ]
  },
  {
   "cell_type": "markdown",
   "id": "1653bde8-ae43-4bf0-b296-3dff9b17cc2e",
   "metadata": {},
   "source": [
    "Regardons ce jeu de données : "
   ]
  },
  {
   "cell_type": "code",
   "execution_count": null,
   "id": "0a1aff64-2d0d-4694-8c58-9eb6797fa70f",
   "metadata": {},
   "outputs": [],
   "source": [
    "iris"
   ]
  },
  {
   "cell_type": "markdown",
   "id": "572d9523-b6d0-43aa-85ec-bd44ba76b830",
   "metadata": {},
   "source": [
    "## 1) Explorons les données"
   ]
  },
  {
   "cell_type": "markdown",
   "id": "a66bb555-30bc-40ca-b4af-0ad8700a2f37",
   "metadata": {},
   "source": [
    "Taille de notre jeu de données :"
   ]
  },
  {
   "cell_type": "code",
   "execution_count": null,
   "id": "7f57d2c8-7a86-4c67-a195-24890fd39e6b",
   "metadata": {},
   "outputs": [],
   "source": [
    "dim(iris)"
   ]
  },
  {
   "cell_type": "markdown",
   "id": "731aa487-9c4f-4ade-b458-d4a674b353dd",
   "metadata": {},
   "source": [
    "### a) matrices de corrélation "
   ]
  },
  {
   "cell_type": "code",
   "execution_count": null,
   "id": "301f0bd8-f778-4794-aa6b-407b0270d15e",
   "metadata": {},
   "outputs": [],
   "source": [
    "pairs.panels(\n",
    "       iris[,1:4], # Our data.\n",
    "       scale = TRUE, # Changes size of correlation value lables based on strength.\n",
    "       hist.col = 'grey85', # Histogram color.  \n",
    "       bg = c(\"mediumseagreen\",\"orange2\",\"mediumpurple1\")[iris$Species], # Colors of the Species levels.\n",
    "       pch = 21, # The plot characters shape and size.\n",
    "       main = 'Correlation matrix of Iris data')  # Title. "
   ]
  },
  {
   "cell_type": "markdown",
   "id": "c7293f94-c7c1-4ccd-ae4d-5be654419871",
   "metadata": {},
   "source": [
    "### b) Boxplot de la largeur des sépales (Sepal.Width)"
   ]
  },
  {
   "cell_type": "code",
   "execution_count": null,
   "id": "d8c15138-d000-473e-a4dd-07c3e4ed277d",
   "metadata": {},
   "outputs": [],
   "source": [
    "ggplot(\n",
    "       # (1) Set data; (2) Specify X and Y variables; (3) 'fill' color separates our Species levels.\n",
    "       data = iris, mapping = aes(x = Species, y = Sepal.Width, fill = Species)) +\n",
    "       geom_boxplot() +  # Specifies that we want a box plot. \n",
    "       scale_fill_brewer(palette = 'Dark2') +  # Change color of box plots. \n",
    "       theme_light() +  # Set light theme. \n",
    "       labs(title = 'Box plot of sepal width for each species', \n",
    "            x = 'Species', y = 'Sepal width')  # Assign a title, axis names."
   ]
  },
  {
   "cell_type": "markdown",
   "id": "099f93b1-f315-43dc-b044-b679904d4e97",
   "metadata": {},
   "source": [
    "### c) Boxplot de la longueur des sépales (Sepal.Length)"
   ]
  },
  {
   "cell_type": "code",
   "execution_count": null,
   "id": "29ffefc0-8230-4de4-9912-b600c9cf052f",
   "metadata": {},
   "outputs": [],
   "source": [
    "ggplot(data = iris, mapping = aes(x = Species, y = Sepal.Length, fill = Species)) +\n",
    "       geom_boxplot() + \n",
    "       scale_fill_brewer(palette = 'Dark2') + \n",
    "       theme_light() +\n",
    "       labs(title = 'Box plot of sepal length for each species', \n",
    "            x = 'Species', y = 'Sepal length')"
   ]
  },
  {
   "cell_type": "markdown",
   "id": "9e2625b5-1265-4753-a990-671972bce843",
   "metadata": {},
   "source": [
    "### d) Boxplots pour les pétales"
   ]
  },
  {
   "cell_type": "markdown",
   "id": "0fa23b41-099e-446f-aa3e-18edcb0df379",
   "metadata": {},
   "source": [
    "Créer deux boxplots : l'un pour la largeur des pétales et l'autre pour la longueur des pétales, en vous aidant du code ci-dessus."
   ]
  },
  {
   "cell_type": "markdown",
   "id": "f5a7c562-d713-4edc-befd-13868d2a452b",
   "metadata": {},
   "source": [
    "### Largeur des pétales :"
   ]
  },
  {
   "cell_type": "code",
   "execution_count": null,
   "id": "b488b6fb-a286-439f-8231-cdad117db761",
   "metadata": {},
   "outputs": [],
   "source": []
  },
  {
   "cell_type": "markdown",
   "id": "e072ee08-c826-4770-9537-bf6a0ec89c78",
   "metadata": {},
   "source": [
    "### Longueur des pétales :"
   ]
  },
  {
   "cell_type": "code",
   "execution_count": null,
   "id": "a3a4cf6e-7961-4847-839d-056209167eae",
   "metadata": {},
   "outputs": [],
   "source": []
  },
  {
   "cell_type": "markdown",
   "id": "fdde9048-82b1-4efe-ace9-e805cd6ab504",
   "metadata": {},
   "source": [
    "## 2) Création du jeu de données \"entrainement\" et \"test\" "
   ]
  },
  {
   "cell_type": "markdown",
   "id": "9c660d79-dd4e-43d0-b1e1-7e0eae5bc35e",
   "metadata": {},
   "source": [
    "Avant d'utiliser les algorithmes de machine learning, il va falloir séparer notre jeu de données en deux : l'un pour de l'entrainement (l'algorithme de machine learning va s'appuyer sur ce jeu de données pour apprendre à faire des prévisions sur nos données) et l'autre pour tester, c'est à dire évaluer si l'algorithme arrive à prévoir correctement. On peut faire des statistiques sur le jeu de test pour savoir si le modèle est correct ou pas !"
   ]
  },
  {
   "cell_type": "markdown",
   "id": "aca0f000-ece8-4441-9400-4d552cbfd193",
   "metadata": {},
   "source": [
    "On va créer un jeu d'entrainement à l'aide du paquet CARET qui va représenter 70% du jeu de données iris. Les données sont choisies aléatoirement."
   ]
  },
  {
   "cell_type": "code",
   "execution_count": null,
   "id": "0d973ba3-a041-4d92-8923-443a5634e794",
   "metadata": {},
   "outputs": [],
   "source": [
    "train_index <- createDataPartition(y = iris$Species,  # y = our dependent variable.\n",
    "                                   p = 0.7,  # Specifies split into 70% & 30%.\n",
    "                                   list = FALSE,  # Sets results to matrix form. \n",
    "                                   times = 1)  # Sets number of partitions to create to 1. "
   ]
  },
  {
   "cell_type": "markdown",
   "id": "ba4626c8-d52c-474d-91b2-c54702c6ad5e",
   "metadata": {},
   "source": [
    "Jeu de données d'entrainement :"
   ]
  },
  {
   "cell_type": "code",
   "execution_count": null,
   "id": "79f4d6c3-dd14-4a8c-bd20-d91b589ef961",
   "metadata": {},
   "outputs": [],
   "source": [
    "train_data <- iris[train_index,] "
   ]
  },
  {
   "cell_type": "markdown",
   "id": "5ab7038b-ebc1-4238-bc8c-4afad67b23af",
   "metadata": {},
   "source": [
    "Jeu de données de test : "
   ]
  },
  {
   "cell_type": "code",
   "execution_count": null,
   "id": "3b03e9ef-3b3e-4f64-b180-7f088c9885f1",
   "metadata": {},
   "outputs": [],
   "source": [
    "test_data <- iris[-train_index,]"
   ]
  },
  {
   "cell_type": "markdown",
   "id": "0ffa6b39-6cc8-4feb-aa7a-fbdacd81ab7b",
   "metadata": {},
   "source": [
    "Quelle est la dimension du jeu d'entrainement et de test ? "
   ]
  },
  {
   "cell_type": "code",
   "execution_count": null,
   "id": "2c04a890-7e6b-4a39-9299-fb0321e52a9a",
   "metadata": {},
   "outputs": [],
   "source": [
    "dim(train_data)\n",
    "dim(test_data)"
   ]
  },
  {
   "cell_type": "markdown",
   "id": "f40f5baf-16a9-4619-8a76-fd32ece02ec0",
   "metadata": {},
   "source": [
    "Explorer les deux jeux de données :"
   ]
  },
  {
   "cell_type": "code",
   "execution_count": null,
   "id": "9d55ec8d-1554-488b-9450-80b5884cbfb8",
   "metadata": {},
   "outputs": [],
   "source": []
  },
  {
   "cell_type": "code",
   "execution_count": null,
   "id": "befd18e5-dd39-43e7-96e6-e8b9ff1fd53b",
   "metadata": {},
   "outputs": [],
   "source": []
  },
  {
   "cell_type": "code",
   "execution_count": null,
   "id": "23426038-43a4-4716-8416-87aab57a562a",
   "metadata": {},
   "outputs": [],
   "source": []
  },
  {
   "cell_type": "code",
   "execution_count": null,
   "id": "51a89dbf-3b22-40c5-b94b-0aa0a1d5bdac",
   "metadata": {},
   "outputs": [],
   "source": []
  },
  {
   "cell_type": "markdown",
   "id": "95b2102d-346d-4883-a78c-fe1fdad17029",
   "metadata": {},
   "source": [
    "## 3) Les différents algorithmes de machine learning"
   ]
  },
  {
   "cell_type": "markdown",
   "id": "4eb0432b-c54a-4779-87b4-455ab5427dc5",
   "metadata": {},
   "source": [
    "L'objectif du machine learning dans notre problème est de prévoir l'espèce d'iris en fonction des caractéristiques (longueur et largeur) des pétales et sépales.\n"
   ]
  },
  {
   "cell_type": "markdown",
   "id": "74a42985-75e1-43f6-8235-f06e562bc161",
   "metadata": {},
   "source": [
    "Nous allons utiliser différents algorithmes classiques de machines learning :\n",
    "- un méthode linéaire (LDA) \n",
    "- une méthode avec un arbre de décision (CART) \n",
    "- une méthode du plus proche voisin (kNN) \n",
    "- Support Vector Machine (SVM) \n",
    "\n",
    "Tous ces algrorithmes font parties des méthodes par apprentissage supervisé : le système est guidé dans son apprentissage en le nourissant d'exemples (par opposition aux méthodes non supervisés et par renforcement).\n",
    "\n",
    "Deux grands types de méthodes existent pour mener à bien un apprentissage supervisé :\n",
    "- la régression\n",
    "- la classification\n",
    "\n",
    "<img src=\"ml.PNG\" style=\"width:600px;height:300px\"/>\n",
    "\n",
    "LDA est une méthode par régression alors que CART et kNN sont des méthodes de classification. SVM, quant à lui, mélange des régressions et des classifications."
   ]
  },
  {
   "cell_type": "markdown",
   "id": "9bcdbc1f-8150-4351-a4bc-e4c3618eddc7",
   "metadata": {},
   "source": [
    "La précsion du jeu d'entrainement est évaluée en machine learnig. C'est un premier indicateur nous permettant de savoir si le modèle obtenu par machine learning semble robuste ou pas."
   ]
  },
  {
   "cell_type": "code",
   "execution_count": null,
   "id": "bf184ea4-d340-48bb-97aa-a08665b19553",
   "metadata": {},
   "outputs": [],
   "source": [
    "control <- trainControl(method=\"cv\", number=10)\n",
    "metric <- \"Accuracy\""
   ]
  },
  {
   "cell_type": "markdown",
   "id": "92b6dd87-1892-408a-b84d-55b7dfe1276f",
   "metadata": {},
   "source": [
    "## a) Méthode linéaire "
   ]
  },
  {
   "cell_type": "markdown",
   "id": "46b55dcb-ef14-4e12-b74c-998c56a592fe",
   "metadata": {
    "tags": []
   },
   "source": [
    "### Entrainement "
   ]
  },
  {
   "cell_type": "markdown",
   "id": "2809c6fd-bb97-4a1a-ba47-86ed1324dd0d",
   "metadata": {},
   "source": [
    "Création du modèle de prévision avec la méthode linéaire (LDA)."
   ]
  },
  {
   "cell_type": "code",
   "execution_count": null,
   "id": "6fe903ff-dcd7-4609-a227-49deabda8b83",
   "metadata": {
    "tags": []
   },
   "outputs": [],
   "source": [
    "lda_model <- train(Species~., data=train_data, method=\"lda\", metric=metric, trControl=control)"
   ]
  },
  {
   "cell_type": "markdown",
   "id": "d7e2660b-0f00-42fa-861d-3c82d675e58a",
   "metadata": {
    "tags": []
   },
   "source": [
    "Evaluons la précision de notre modèle à l'aide d'une matrice de confusion :"
   ]
  },
  {
   "cell_type": "code",
   "execution_count": null,
   "id": "d1d408cd-976c-4896-b9c2-df2f76d4da5b",
   "metadata": {},
   "outputs": [],
   "source": [
    "confusionMatrix(lda_model)"
   ]
  },
  {
   "cell_type": "markdown",
   "id": "fb775284-9fda-43ae-b6e1-bfca342b6d0f",
   "metadata": {},
   "source": [
    "On peut aussi regarder l'importance de chaque variable dans le choix de la classification de l'espèce d'iris."
   ]
  },
  {
   "cell_type": "code",
   "execution_count": null,
   "id": "c78de046-09b2-43c9-86bd-6c112fc3128f",
   "metadata": {},
   "outputs": [],
   "source": [
    "# Create object of importance of our variables \n",
    "dt_importance <- varImp(lda_model)\n",
    "\n",
    "# Create plot of importance of variables\n",
    "ggplot(data = dt_importance, mapping = aes(x = dt_importance[,1])) + # Data & mapping\n",
    "  geom_boxplot() + # Create box plot\n",
    "  labs(title = \"Variable importance: Decision tree model\") + # Title\n",
    "  theme_light() # Theme"
   ]
  },
  {
   "cell_type": "markdown",
   "id": "a552777b-b5c6-4e4b-95ae-ef023cf6411f",
   "metadata": {},
   "source": [
    "Quelles conclusions en tirez-vous ? "
   ]
  },
  {
   "cell_type": "markdown",
   "id": "7992a302-642a-4429-ad07-2c22e444362a",
   "metadata": {},
   "source": [
    "### Prévision : utilisation du modèle sur le jeu de données test"
   ]
  },
  {
   "cell_type": "code",
   "execution_count": null,
   "id": "5ba4d3b4-9e3a-4a25-a5a2-cdcaa9adabf9",
   "metadata": {},
   "outputs": [],
   "source": [
    "prediction_lda <- predict(lda_model, test_data)"
   ]
  },
  {
   "cell_type": "markdown",
   "id": "41bd0190-a65c-4f0f-bca0-dbc025156a3c",
   "metadata": {},
   "source": [
    "Regardons ce que nous obtenons :"
   ]
  },
  {
   "cell_type": "code",
   "execution_count": null,
   "id": "ba3dd5b7-4925-4e3c-94d6-c6b117ba36d2",
   "metadata": {},
   "outputs": [],
   "source": [
    "prediction_lda"
   ]
  },
  {
   "cell_type": "markdown",
   "id": "d903cd07-6b6e-45fe-8f48-21fcb67697d6",
   "metadata": {},
   "source": [
    "Déterminons la proportion de prévisions justes à l'aide de matrices de confusion :"
   ]
  },
  {
   "cell_type": "code",
   "execution_count": null,
   "id": "4ddc1b80-bfe8-4222-bb06-e1faa4b0685c",
   "metadata": {},
   "outputs": [],
   "source": [
    "confusionMatrix(prediction_lda, test_data$Species)"
   ]
  },
  {
   "cell_type": "markdown",
   "id": "f976ad78-b8e4-4228-973a-59803fa96606",
   "metadata": {},
   "source": [
    "## b) Arbre de décision"
   ]
  },
  {
   "cell_type": "markdown",
   "id": "5c9ed51e-00eb-4e4f-9c69-d8dc738de446",
   "metadata": {
    "tags": []
   },
   "source": [
    "### Entrainement "
   ]
  },
  {
   "cell_type": "markdown",
   "id": "cdbcf80c-3971-4ba3-84da-b95f00ddeeff",
   "metadata": {
    "tags": []
   },
   "source": [
    "Création du modèle de prévision à l'aide d'un arbre de décision (CART). Sous R, ce modèle se nomme \"rpart\"."
   ]
  },
  {
   "cell_type": "code",
   "execution_count": null,
   "id": "f31dae70-15ae-4ba1-9a7a-32f96dda78f1",
   "metadata": {
    "tags": []
   },
   "outputs": [],
   "source": [
    "cart_model <- train(Species~., data=train_data, method=\"rpart\", metric=metric, trControl=control)"
   ]
  },
  {
   "cell_type": "markdown",
   "id": "76b88ad3-4de7-4a2f-919a-23e06495904e",
   "metadata": {
    "tags": []
   },
   "source": [
    "Evaluons la précision de notre modèle à l'aide d'une matrice de confusion :"
   ]
  },
  {
   "cell_type": "code",
   "execution_count": null,
   "id": "5d2a1e31-d36d-414d-93a5-403d7fce4c1c",
   "metadata": {},
   "outputs": [],
   "source": [
    "confusionMatrix(cart_model)"
   ]
  },
  {
   "cell_type": "markdown",
   "id": "25fdbf65-c5b3-4e55-a713-5aed1c2d52bb",
   "metadata": {},
   "source": [
    "On peut aussi regarder l'importance de chaque variable dans le choix de la classification de l'espèce d'iris."
   ]
  },
  {
   "cell_type": "code",
   "execution_count": null,
   "id": "66abd960-c2ac-4a19-9aef-46aaea9aaec0",
   "metadata": {},
   "outputs": [],
   "source": [
    "# Create object of importance of our variables \n",
    "dt_importance <- varImp(cart_model)\n",
    "\n",
    "# Create plot of importance of variables\n",
    "ggplot(data = dt_importance, mapping = aes(x = dt_importance[,1])) + # Data & mapping\n",
    "  geom_boxplot() + # Create box plot\n",
    "  labs(title = \"Variable importance: Decision tree model\") + # Title\n",
    "  theme_light() # Theme"
   ]
  },
  {
   "cell_type": "markdown",
   "id": "79b70314-08a3-449d-9ad1-0f8f70e85bac",
   "metadata": {},
   "source": [
    "Quelles conclusions en tirez-vous ? "
   ]
  },
  {
   "cell_type": "markdown",
   "id": "62ad0d6a-bb64-4183-a6a2-fddc91bff142",
   "metadata": {},
   "source": [
    "### Prévision : utilisation du modèle sur le jeu de données test"
   ]
  },
  {
   "cell_type": "code",
   "execution_count": null,
   "id": "72410509-e9dc-478b-b179-7aef5940f455",
   "metadata": {},
   "outputs": [],
   "source": [
    "prediction_cart <- predict(cart_model, test_data)"
   ]
  },
  {
   "cell_type": "markdown",
   "id": "519f84ca-9949-4985-84e5-6b722e8b9646",
   "metadata": {},
   "source": [
    "Déterminons la proportion de prévisions justes à l'aide de matrices de confusion :"
   ]
  },
  {
   "cell_type": "code",
   "execution_count": null,
   "id": "b39b671a-d908-42f3-adc0-33a5a5a49b47",
   "metadata": {},
   "outputs": [],
   "source": [
    "confusionMatrix(prediction_cart, test_data$Species)"
   ]
  },
  {
   "cell_type": "markdown",
   "id": "c84720eb-b3eb-486c-9b25-7cf25bc59135",
   "metadata": {},
   "source": [
    "## c) Méthode du plus proche voisin "
   ]
  },
  {
   "cell_type": "markdown",
   "id": "48715133-4142-447c-ad5a-10a6444d0d12",
   "metadata": {
    "tags": []
   },
   "source": [
    "### Entrainement "
   ]
  },
  {
   "cell_type": "markdown",
   "id": "2adade7b-5ab9-420d-b392-d80bbf78b82c",
   "metadata": {
    "tags": []
   },
   "source": [
    "Création du modèle de prévision à l'aide de la méthode du plus proche voisin (kNN)."
   ]
  },
  {
   "cell_type": "code",
   "execution_count": null,
   "id": "8188943a-8417-40a0-bf96-5ce999f2957d",
   "metadata": {
    "tags": []
   },
   "outputs": [],
   "source": [
    "knn_model <- train(Species~., data=train_data, method=\"knn\", metric=metric, trControl=control)"
   ]
  },
  {
   "cell_type": "markdown",
   "id": "6dacdbd4-d04d-48bb-977a-7b2b47095310",
   "metadata": {
    "tags": []
   },
   "source": [
    "Evaluons la précision de notre modèle à l'aide d'une matrice de confusion :"
   ]
  },
  {
   "cell_type": "code",
   "execution_count": null,
   "id": "04ba5025-2e70-49b3-8f8f-80aea8b00f2a",
   "metadata": {},
   "outputs": [],
   "source": [
    "confusionMatrix(knn_model)"
   ]
  },
  {
   "cell_type": "markdown",
   "id": "4869a4b6-7114-4e70-8a2b-c775387e0b0c",
   "metadata": {},
   "source": [
    "On peut aussi regarder l'importance de chaque variable dans le choix de la classification de l'espèce d'iris."
   ]
  },
  {
   "cell_type": "code",
   "execution_count": null,
   "id": "d5f9339a-f0d5-4d0b-9f63-b68f553c00c6",
   "metadata": {},
   "outputs": [],
   "source": [
    "# Create object of importance of our variables \n",
    "dt_importance <- varImp(knn_model)\n",
    "\n",
    "# Create plot of importance of variables\n",
    "ggplot(data = dt_importance, mapping = aes(x = dt_importance[,1])) + # Data & mapping\n",
    "  geom_boxplot() + # Create box plot\n",
    "  labs(title = \"Variable importance: Decision tree model\") + # Title\n",
    "  theme_light() # Theme"
   ]
  },
  {
   "cell_type": "markdown",
   "id": "6ae113b2-83ea-4f0e-a098-f0e131b6e669",
   "metadata": {},
   "source": [
    "Quelles conclusions en tirez-vous ? "
   ]
  },
  {
   "cell_type": "markdown",
   "id": "be358384-e196-4e71-a25e-b7b102cd3c36",
   "metadata": {
    "tags": []
   },
   "source": [
    "### Prévision : utilisation du modèle sur le jeu de données test"
   ]
  },
  {
   "cell_type": "code",
   "execution_count": null,
   "id": "860ec1e1-13e7-429f-909d-b2b3761f66d2",
   "metadata": {},
   "outputs": [],
   "source": [
    "prediction_knn <- predict(knn_model, test_data)"
   ]
  },
  {
   "cell_type": "markdown",
   "id": "1a218d06-9bfa-4e4c-8cf3-cba9675ade13",
   "metadata": {},
   "source": [
    "Déterminons la proportion de prévisions justes à l'aide de matrices de confusion :"
   ]
  },
  {
   "cell_type": "code",
   "execution_count": null,
   "id": "552fcca7-0cc5-438f-bf4b-37a74163ac48",
   "metadata": {},
   "outputs": [],
   "source": [
    "confusionMatrix(prediction_cart, test_data$Species)"
   ]
  },
  {
   "cell_type": "code",
   "execution_count": null,
   "id": "66e4f219-e015-4372-a9ac-769f2cb56961",
   "metadata": {},
   "outputs": [],
   "source": []
  },
  {
   "cell_type": "markdown",
   "id": "d71d5f60-5e38-479e-a608-797a4b27b5d5",
   "metadata": {},
   "source": [
    "## d) Support Vector Machine"
   ]
  },
  {
   "cell_type": "markdown",
   "id": "6d0376f4-f21d-49d9-9f4d-7c2a9fad36d4",
   "metadata": {
    "tags": []
   },
   "source": [
    "### Entrainement "
   ]
  },
  {
   "cell_type": "markdown",
   "id": "6ada67bc-e022-4b6a-99fc-0ab53343b16b",
   "metadata": {
    "tags": []
   },
   "source": [
    "Création du modèle de prévision à l'aide du support vector machine. Sur R, cette méthode se nomme \"svmRadial\"."
   ]
  },
  {
   "cell_type": "code",
   "execution_count": null,
   "id": "a123e975-3b4b-4813-8e2c-1e9d93f18c51",
   "metadata": {
    "tags": []
   },
   "outputs": [],
   "source": [
    "svm_model <- train(Species~., data=train_data, method=\"svmRadial\", metric=metric, trControl=control)"
   ]
  },
  {
   "cell_type": "markdown",
   "id": "ca99cf73-31d0-488f-86ec-081965a53ced",
   "metadata": {
    "tags": []
   },
   "source": [
    "Evaluons la précision de notre modèle à l'aide d'une matrice de confusion :"
   ]
  },
  {
   "cell_type": "code",
   "execution_count": null,
   "id": "07dfdf31-b251-486b-a651-4c76cd7fb16b",
   "metadata": {},
   "outputs": [],
   "source": [
    "confusionMatrix(svm_model)"
   ]
  },
  {
   "cell_type": "markdown",
   "id": "7e5449b2-67e6-4812-9904-3c1d59bb0b87",
   "metadata": {},
   "source": [
    "On peut aussi regarder l'importance de chaque variable dans le choix de la classification de l'espèce d'iris."
   ]
  },
  {
   "cell_type": "code",
   "execution_count": null,
   "id": "c1cc77fc-889e-4ab6-b116-6782ccd12a55",
   "metadata": {},
   "outputs": [],
   "source": [
    "# Create object of importance of our variables \n",
    "dt_importance <- varImp(svm_model)\n",
    "\n",
    "# Create plot of importance of variables\n",
    "ggplot(data = dt_importance, mapping = aes(x = dt_importance[,1])) + # Data & mapping\n",
    "  geom_boxplot() + # Create box plot\n",
    "  labs(title = \"Variable importance: Decision tree model\") + # Title\n",
    "  theme_light() # Theme"
   ]
  },
  {
   "cell_type": "markdown",
   "id": "2acfef3b-091f-4c1d-bf3b-de54303cfd78",
   "metadata": {},
   "source": [
    "Quelles conclusions en tirez-vous ? "
   ]
  },
  {
   "cell_type": "markdown",
   "id": "e14a97ba-f829-4fe6-ac6f-d31992904cc2",
   "metadata": {
    "tags": []
   },
   "source": [
    "### Prévision : utilisation du modèle sur le jeu de données test"
   ]
  },
  {
   "cell_type": "code",
   "execution_count": null,
   "id": "3a986f2a-1f41-4528-86b6-bfc2d21fda43",
   "metadata": {},
   "outputs": [],
   "source": [
    "prediction_svm <- predict(svm_model, test_data)"
   ]
  },
  {
   "cell_type": "markdown",
   "id": "a128223b-a2a6-44d1-9949-0694e6421e84",
   "metadata": {},
   "source": [
    "Déterminons la proportion de prévisions justes à l'aide de matrices de confusion :"
   ]
  },
  {
   "cell_type": "code",
   "execution_count": null,
   "id": "c97f655b-3b08-4f23-bf7b-15109b8bf666",
   "metadata": {},
   "outputs": [],
   "source": [
    "confusionMatrix(prediction_svm, test_data$Species)"
   ]
  },
  {
   "cell_type": "markdown",
   "id": "8870fdd1-9b16-4231-a9ef-79152b3c9e7c",
   "metadata": {},
   "source": [
    "# 3) Comparaison des modèles"
   ]
  },
  {
   "cell_type": "markdown",
   "id": "03c7023f-a8d9-4b36-a6da-f544eb4f7ac4",
   "metadata": {},
   "source": [
    "Comparons les 4 modèles entre eux pour savoir celui qui est le plus précis. Listons tous les modèles au sein d'une même variable :"
   ]
  },
  {
   "cell_type": "code",
   "execution_count": null,
   "id": "d4028463-6052-4d7e-8711-63842b2c6008",
   "metadata": {},
   "outputs": [],
   "source": [
    "results <- resamples(list(lda=lda_model, cart=cart_model, knn=knn_model, svm=svm_model))\n",
    "summary(results)"
   ]
  },
  {
   "cell_type": "markdown",
   "id": "7ec78fc4-0569-4aa5-871d-9d832346caaa",
   "metadata": {},
   "source": [
    "On peut représenter ces données à l'aide d'un graphique :"
   ]
  },
  {
   "cell_type": "code",
   "execution_count": null,
   "id": "e1090f6a-5808-4bf5-ae23-f46b9e5420c3",
   "metadata": {},
   "outputs": [],
   "source": [
    "dotplot(results)"
   ]
  },
  {
   "cell_type": "markdown",
   "id": "57daab9f-bf35-46ec-b147-f33716e28b8a",
   "metadata": {},
   "source": [
    "Quel est le modèle le plus précis ?"
   ]
  },
  {
   "cell_type": "code",
   "execution_count": null,
   "id": "82d6225d-2ecd-4002-bed6-7f08c5808220",
   "metadata": {},
   "outputs": [],
   "source": []
  }
 ],
 "metadata": {
  "kernelspec": {
   "display_name": "R",
   "language": "R",
   "name": "ir"
  },
  "language_info": {
   "codemirror_mode": "r",
   "file_extension": ".r",
   "mimetype": "text/x-r-source",
   "name": "R",
   "pygments_lexer": "r",
   "version": "3.6.3"
  }
 },
 "nbformat": 4,
 "nbformat_minor": 5
}
